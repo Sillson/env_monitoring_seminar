{
 "cells": [
  {
   "cell_type": "markdown",
   "metadata": {},
   "source": [
    "# Descartes Labs Tutorial\n",
    "https://www.descarteslabs.com/\n",
    "\n",
    "For this tutorial we will be exploring the Descartes Lab API and platform. Descartes Labs definies themselves as a 'data refinery built to understand our planet'.\n",
    "\n"
   ]
  },
  {
   "cell_type": "markdown",
   "metadata": {},
   "source": [
    "## Getting Started\n",
    "\n",
    "### Installation\n",
    "\n",
    "### Authentication\n",
    "\n",
    "### Your Account"
   ]
  },
  {
   "cell_type": "markdown",
   "metadata": {},
   "source": [
    "## Viewer\n",
    "\n",
    "https://viewer.descarteslabs.com/\n",
    "\n",
    "## Search\n",
    "\n",
    "https://search.descarteslabs.com\n",
    "\n",
    "## Catalog\n",
    "\n"
   ]
  },
  {
   "cell_type": "code",
   "execution_count": null,
   "metadata": {},
   "outputs": [],
   "source": []
  }
 ],
 "metadata": {
  "kernelspec": {
   "display_name": "Python 3",
   "language": "python",
   "name": "python3"
  },
  "language_info": {
   "codemirror_mode": {
    "name": "ipython",
    "version": 3
   },
   "file_extension": ".py",
   "mimetype": "text/x-python",
   "name": "python",
   "nbconvert_exporter": "python",
   "pygments_lexer": "ipython3",
   "version": "3.7.0"
  }
 },
 "nbformat": 4,
 "nbformat_minor": 2
}
