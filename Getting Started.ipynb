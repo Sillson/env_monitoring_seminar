{
 "cells": [
  {
   "cell_type": "markdown",
   "metadata": {},
   "source": [
    "# Descartes Labs Tutorial\n",
    "https://www.descarteslabs.com/\n",
    "\n",
    "For this tutorial we will be exploring the Descartes Lab API and platform. Descartes Labs definies themselves as a 'data refinery built to understand our planet'.\n",
    "\n"
   ]
  },
  {
   "cell_type": "markdown",
   "metadata": {},
   "source": [
    "## Getting Started\n",
    "\n",
    "### Installation\n",
    "\n",
    "#### MACOS || LINUX\n",
    "\n",
    "For a standard installation, use pip to install the package.\n",
    "```\n",
    "pip install descarteslabs\n",
    "```\n",
    "\n",
    "If you're uncomfortable with installing additionally dependencies as they may crop up, install with optional recommended dependencies (blosc, NumPy, and matplotlib):\n",
    "```\n",
    "pip install \"descarteslabs[complete]\"\n",
    "```\n",
    "\n",
    "#### Windows Users\n",
    "The client library requires shapely, which can be hard to install on Windows with pip.\n",
    "We recommended using Anaconda to first install shapely. If you’re unfamiliar with conda, check out the document on development environments for recommendations.\n",
    "\n",
    "```\n",
    "conda install shapely\n",
    "pip install descarteslabs\n",
    "```\n",
    "### Authentication\n",
    "\n",
    "### Your Account"
   ]
  },
  {
   "cell_type": "markdown",
   "metadata": {},
   "source": [
    "## Viewer\n",
    "\n",
    "https://viewer.descarteslabs.com/\n",
    "\n",
    "The Descartes Labs Viewer sits on top of our Metadata API and provides full visual display and filtering access of available imagery. By default, the Landsat 8 Real Time product is loaded centered on your location (if available). You can choose to add new layers, or remove, toggle, and edit currently loaded layers. The edit option allows you to query the dataset by date and cloud fraction as well as visualize different band combinations.\n",
    "\n",
    "## Search\n",
    "\n",
    "https://search.descarteslabs.com\n",
    "\n",
    "GeoVisual Search (GVS) is the our computer vision product used to detect features on the earth surface based on a sample. Our Search interface is powered by the same intelligent object detection technology, enabling a user to place a bounding box around a feature anywhere in the US (covered with high resolution imagery). It returns a subset of the top visual matches. One potential search feature would be a substation, returning a collection of substations across the US.\n",
    "\n",
    "## Catalog\n",
    "\n",
    "https://catalog.descarteslabs.com/?/\n",
    "\n",
    "The Descartes Labs Catalog is a list of all image products and their associated metadata. This includes, but is not limited to, things like the valid time range, information about native and derived bands, and spatial resolution. The Catalog is also where a user can control the permissions for products they own, allowing you to share imagery with an individual user, an organization, or the general public. Additionally, you can open products in Viewer directly from a products’ information page."
   ]
  },
  {
   "cell_type": "code",
   "execution_count": null,
   "metadata": {},
   "outputs": [],
   "source": []
  }
 ],
 "metadata": {
  "kernelspec": {
   "display_name": "Python 3",
   "language": "python",
   "name": "python3"
  },
  "language_info": {
   "codemirror_mode": {
    "name": "ipython",
    "version": 3
   },
   "file_extension": ".py",
   "mimetype": "text/x-python",
   "name": "python",
   "nbconvert_exporter": "python",
   "pygments_lexer": "ipython3",
   "version": "3.7.0"
  }
 },
 "nbformat": 4,
 "nbformat_minor": 2
}
